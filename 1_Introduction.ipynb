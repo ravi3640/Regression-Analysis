{
  "nbformat": 4,
  "nbformat_minor": 0,
  "metadata": {
    "colab": {
      "provenance": [],
      "toc_visible": true,
      "authorship_tag": "ABX9TyOkFJc2zvIXVlzXobrDP1U0",
      "include_colab_link": true
    },
    "kernelspec": {
      "name": "python3",
      "display_name": "Python 3"
    },
    "language_info": {
      "name": "python"
    }
  },
  "cells": [
    {
      "cell_type": "markdown",
      "metadata": {
        "id": "view-in-github",
        "colab_type": "text"
      },
      "source": [
        "<a href=\"https://colab.research.google.com/github/ravi3640/Regression-Analysis/blob/main/1_Introduction.ipynb\" target=\"_parent\"><img src=\"https://colab.research.google.com/assets/colab-badge.svg\" alt=\"Open In Colab\"/></a>"
      ]
    },
    {
      "cell_type": "markdown",
      "source": [
        "# Section 1.1 What is Regression Analysis\n",
        "\n",
        "\n",
        "*   Regression analysis is conceptually a simple method for investigating functional relationship among variables. For example - A real estate appraiser may wish to relate sales price with physical characteristics of building and taxe-rate.\n",
        "*   The relatuinship is expressed in the form of an equation or a model connecting dependent variabels and explanatory variables. For example - in realestate appraiser case, price of building is dependent variabeles and physical characteristics of building along with taxe-rate is considered as independent/explanatory variables. \n",
        "\n",
        "*   Resonse variable is represented by $Y$ and indepedent variables are represented by $X_1,X_2,...X_p$. The relationship is represented by \n",
        "<h1><center>$Y=f(X_1,X_2,..,X_p)+\\epsilon$</center></h1> \n",
        "where $\\epsilon$ is error representing discrepency in the approximation or failure of the model to fit the data exactly. \n",
        "One example of relationship for $f$, that captures realtionship between explanatory variables and dependent variable is \n",
        "<h1><center>$Y=\\beta_0+\\beta_1X_1+\\beta_2X_2+..+\\beta_pX_p+\\epsilon$</center></h1> \n",
        "where $\\beta_0, \\beta_1,.., \\beta_p$ are regression parameters or coefficients that model will estimate through data.\n",
        "\n",
        "\n",
        "\n",
        "\n"
      ],
      "metadata": {
        "id": "KzssR9AtbR3_"
      }
    },
    {
      "cell_type": "markdown",
      "source": [
        "# Section 1.2 Publicaly Available Data Sets \n",
        "Please refer to page number 2 of the book to see details"
      ],
      "metadata": {
        "id": "Gb4Pqh_-C0VZ"
      }
    },
    {
      "cell_type": "markdown",
      "source": [
        "# Section 1.3 Selected Applications of Regression Analysis\n",
        "\n",
        "\n",
        "1.   Develop a model to predict current month milk production using set of measurable variables - previous month milk production, number of lactations, percent of fat in milk etc. \n",
        "2.   Develop a model to predict domestic immigration using set of variables like weather condition, crime, taxes, unemploument rate etc.\n",
        "3.   Estimate the age of old objects using age related variables.\n",
        "4.   Estimate water quality on the basis of land use around river basin. \n",
        "5.   Predict industrial production on the basis of relevant variables of the industry. \n",
        "\n",
        "\n",
        "\n"
      ],
      "metadata": {
        "id": "PX5BaG2ADH6d"
      }
    },
    {
      "cell_type": "markdown",
      "source": [
        "# Section 1.4 Steps in Regression Analysis\n",
        "\n",
        "\n",
        "1.   **Precisely define your problem statement** - Defining the problem statement is the first and perhaps the most important step in the model development process. A misformulated question lead to incorrect solution. For example, if we intend to find \"Are women paid less than equally qualified men?\" then it has to be worded like that. If we define the same as \"Are women more qualified than eaully paid men\" will result in wrong model. \n",
        "2.   **Selection of potentially relevant variables** - Create a list of explanatory variables that can explain response variable. Literature review and expert advice can be of great help here.  \n",
        "3.   **Data collection** - Data can be either experimental or non-expeimental. In experimental data, we have control on the process of data generation but that is not the case in non-experimental data. Conventionally, number of observations in the data is represented by $n$ and $i^{th}$ observation of $j^{th}$ variable is represented by $x_{i,j}$. Following table can help us understand this representation - \n",
        "\n",
        "Observation Number | Response Variable | $X_1$ | $X_2$ | . | . |$X_p$                             \n",
        "--- | --- | --- | --- | --- | --- | --- \n",
        "1 | $y_1$ | $x_{1,1}$ | $x_{1,2}$ | . | . | $x_{1,p}$\n",
        "2 | $y_2$ | $x_{2,1}$ | $x_{2,2}$ | . | . | $x_{2,p}$\n",
        ". | . | . | . | . | . | . \n",
        ". | . | . | . | . | . | . \n",
        "n | $y_n$ | $x_{n,1}$ | $x_{n,2}$ | . | . | $x_{n,1}$\n",
        "\n",
        "\n",
        "4.   **Model Specification** - We need to select the form of model by specifying the form of function $Y = f(X_1, X_2, ..., X_p)+\\epsilon$. Functional form can be classified as *linear* or *non-linear*\n",
        "\n",
        "*   Linear Model - Where parameters of the mdoel are in linear form. For example -  \n",
        "<h1><center>$Y=\\beta_0+\\beta_1X_1+\\beta_2X_2+..+\\beta_pX_p+\\epsilon$</center></h1>\n",
        "*   Non_linear Function - Where parameters of the model are in non-linear form. For example - \n",
        "<h1><center>$Y=\\beta_0+e^{\\beta_1X_1}+\\epsilon$</center></h1>\n",
        "Following is an indicative list of classes of regression models. \n",
        "\n",
        "Type of Regression | Condition\n",
        "--- | ---\n",
        "Univariate | Only one quantitative response variable \n",
        "Multivariate | Two or more quantitative response variable \n",
        "Simple | Only one predictor variable \n",
        "Multiple | Two or more predictor variables \n",
        "Linear | All parameters enter the model linearly after the data set is transformed \n",
        "Nonlinear | Some of the model parameters enter the model is non-linear form\n",
        "Analysis of variance | All predictors are quantitative variables \n",
        "Analysis of covariance | Some predictors are qunatitative and others are qualitative \n",
        "Logistic | Response variable is qualitative \n",
        "\n",
        "\n",
        "5.   **Choice of fitting method** -  At this step we decide on our method that will be used for estimating the parameters of the mdoels. Most popular parameter estimation method is *least sqaure method*. But sometimes assumptions for least square is not satisfied, then we can use other methods like *maximum likelihood estimator*. \n",
        "6.   **Model fitting** -  Once the method for estimating the parameter is done in step 5, we go on to estimate the $\\beta_s$ of the population regression function mentioned in step 4. Once we have estimated values of the $\\beta_s$, we will write the sample regression function with *hat* as mentioned below -\n",
        "<h1><center>$\\hat{Y}=\\hat{\\beta_0}+\\hat{\\beta_1}X_1+\\hat{\\beta_2}X_2+..+\\hat{\\beta_p}X_p+\\hat{\\epsilon}$</center></h1>\n",
        "All the $\\beta_s$ with hat shows that these are random variables and they dependent on the sample. \n",
        "7.   **Model validation and criticism** - Validaity of statistical models depends on not just the performance of the model but validation of its assumptions. Hence, for any staistical models we need to confirm the following questions - \n",
        "\n",
        "\n",
        "*   What are the required assumptions?\n",
        "*   For each of the assumptions, how to determine if the assumptions are valid?\n",
        "*   What can be done if some of the assumptions are not satisfied?\n",
        "\n",
        "Vadaition of assumption id required before we want to derive any conclusion from the model. Remember that model development is an *iterative* process. It means the process of model development is repeated until we get a desired result from the model. \n",
        "\n",
        "8.  **Using chosen model for solution of the posted problem** - There are multiple useful ways in which regression mdoel can be used. It can be used for prediction, undestanding the relation ship among the variables, estimating the impact of individual independent variable on the dependent variable etc. \n"
      ],
      "metadata": {
        "id": "Kl3K3RbJdw4Z"
      }
    },
    {
      "cell_type": "markdown",
      "source": [
        "# Exercise \n",
        "\n",
        "**Question 1.1** Calssify each of the following variables as either qualitative or quantitative. If the variable is qualitative, state the possible categories. \n",
        "\n",
        "**Answer**\n",
        "\n",
        "Variables | Category\n",
        "--- | ---\n",
        "Geographical region | Qualitative - nominal \n",
        "Number of childern in a family | Quantitative \n",
        "Price of a house | Quantitative \n",
        "Race | Qualitative - nominal\n",
        "Temperature | Quantitative\n",
        "Fuel consumption | Quantitative\n",
        "Employment rate | Quantitative \n",
        "Political party preference | Qualitative - nominal \n"
      ],
      "metadata": {
        "id": "3EA-4sTsLDy9"
      }
    },
    {
      "cell_type": "markdown",
      "source": [
        "**Question 1.2** Give two examples in any area of interest to you where regression analysis can be used as a data analytical tool to answer some question of interest. \n",
        "\n",
        "**Answer**\n",
        "\n",
        "(a).  What is the question of interest?\n",
        "\n",
        "      1. How to forecast unemployment-rate of an economy?\n",
        "      2. How to do predict agriculture for a particular calender year for a country?\n",
        "\n",
        "(b).  Identify the response and pred7ictor variables?\n",
        "\n",
        "      1. Response variables - unemployment rate, Predictor variables - unemployment rate of last several quarters, GDP for last sevaeal quarters, interest rate, exhange rate againt major countries, oil prices etc. \n",
        "      2. Response variable - Agriculture production, Predictor variables - Weather, water level, rate of fertilizers etc \n",
        "\n",
        "(c). Classify each of the variables as qualitative or quantitative\n",
        "\n",
        "     1. Unemploument rate - quantitative, GDP - quantitative etc\n",
        "     2. Agriculture preoduction - quantitative, water level - quatitative \n",
        "\n",
        "(d).  Which type of regression can be used to analyze the data?\n",
        "\n",
        "     For both models multiple regression models can be used \n",
        "\n",
        "(e).  Give a possible form of model and identify its parameters. \n",
        "\n",
        "$unemployment\\text{-}rate_t = \\beta_0 + \\beta_1unemployment\\text{-}rate_{t-1}+\\beta_2GDP_{t-1}+Oil\\text{-}price_t+\\epsilon$"
      ],
      "metadata": {
        "id": "ziVWotRDefrb"
      }
    },
    {
      "cell_type": "markdown",
      "source": [
        "** Question 1.3** In each of the following set of variables, identify which of the variables are regarded as response variables and which of them are classified as predictors.\n",
        "\n",
        "**Answer**\n",
        "\n",
        "Response Variable | Predictors\n",
        "--- | ---\n",
        "Number of gasoline cylinder | Gas consumption of cars \n",
        "College admission | SAT score, grade point average \n",
        "Supply of a good | demand of a good \n",
        "Company assets | Return on stock, net sales\n",
        "Time to run the race | weather condition at the time of race, distance of the race\n",
        "Weight of the person | If the person is smoker, if the person has lung cancer\n",
        "Employment rate | Parents height/weight, gender, age"
      ],
      "metadata": {
        "id": "vq6ISGMkKXr_"
      }
    },
    {
      "cell_type": "markdown",
      "source": [
        "**Question 1.4** Classify the variables into quantitative and qualitative variables in question 1.3\n",
        "\n",
        "**Answer** It a simple exercise "
      ],
      "metadata": {
        "id": "edQ_3jTFTUfZ"
      }
    },
    {
      "cell_type": "code",
      "execution_count": null,
      "metadata": {
        "id": "CTZL7CEqbBRd"
      },
      "outputs": [],
      "source": []
    }
  ]
}